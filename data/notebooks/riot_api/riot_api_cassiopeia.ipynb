{
 "cells": [
  {
   "cell_type": "markdown",
   "metadata": {},
   "source": [
    "## Imports"
   ]
  },
  {
   "cell_type": "code",
   "execution_count": 1,
   "metadata": {},
   "outputs": [],
   "source": [
    "from fastapi import FastAPI, Request\n",
    "from fastapi.responses import FileResponse, Response\n",
    "from fastapi.middleware.cors import CORSMiddleware\n",
    "from pydantic import BaseModel\n",
    "from typing import List, Optional\n",
    "from openai import OpenAI\n",
    "from dotenv import load_dotenv\n",
    "from riotwatcher import LolWatcher, ApiError\n",
    "import httpx\n",
    "import asyncio\n",
    "import logging\n",
    "import os\n",
    "import requests\n",
    "import random\n",
    "import arrow\n",
    "\n",
    "# Load Cassiopeia\n",
    "import cassiopeia as cass\n",
    "from cassiopeia import Summoner\n",
    "from cassiopeia import Locales\n",
    "from cassiopeia.core import Summoner, MatchHistory, Match\n",
    "from cassiopeia import Queue, Patch\n",
    "\n",
    "from sortedcontainers import SortedList\n",
    "\n",
    "\n",
    "RIOT_API_KEY = \"RGAPI-de85bb37-76e5-6890-9a94-fcf7b1bf14a6\"\n",
    "\n",
    "load_dotenv()\n",
    "cass.set_riot_api_key(os.getenv(\"RIOT_API_KEY\"))"
   ]
  },
  {
   "cell_type": "markdown",
   "metadata": {},
   "source": [
    "## Locales"
   ]
  },
  {
   "cell_type": "code",
   "execution_count": 2,
   "metadata": {},
   "outputs": [
    {
     "name": "stdout",
     "output_type": "stream",
     "text": [
      "[...]\n",
      "Making call: https://ddragon.leagueoflegends.com/cdn/languages.json\n",
      "en_US\n",
      "cs_CZ\n",
      "de_DE\n",
      "el_GR\n",
      "en_AU\n",
      "en_GB\n",
      "en_PH\n",
      "en_SG\n",
      "es_AR\n",
      "es_ES\n",
      "es_MX\n",
      "fr_FR\n",
      "hu_HU\n",
      "it_IT\n",
      "ja_JP\n",
      "ko_KR\n",
      "pl_PL\n",
      "pt_BR\n",
      "ro_RO\n",
      "ru_RU\n",
      "th_TH\n",
      "tr_TR\n",
      "vi_VN\n",
      "zh_CN\n",
      "zh_MY\n",
      "zh_TW\n",
      "['en_US', 'cs_CZ', 'de_DE', 'el_GR', 'en_AU', 'en_GB', 'en_PH', 'en_SG', 'es_AR', 'es_ES', 'es_MX', 'fr_FR', 'hu_HU', 'it_IT', 'ja_JP', 'ko_KR', 'pl_PL', 'pt_BR', 'ro_RO', 'ru_RU', 'th_TH', 'tr_TR', 'vi_VN', 'zh_CN', 'zh_MY', 'zh_TW']\n"
     ]
    }
   ],
   "source": [
    "def get_locales():\n",
    "    locales = cass.get_locales(region=\"NA\")\n",
    "    print(locales)\n",
    "    for locale in locales:\n",
    "        print(locale)\n",
    "    print(locales)\n",
    "\n",
    "\n",
    "if __name__ == \"__main__\":\n",
    "    get_locales()"
   ]
  },
  {
   "cell_type": "markdown",
   "metadata": {},
   "source": [
    "## Summoner"
   ]
  },
  {
   "cell_type": "code",
   "execution_count": 3,
   "metadata": {},
   "outputs": [
    {
     "name": "stdout",
     "output_type": "stream",
     "text": [
      "Name: gameb0x\n",
      "Making call: https://na1.api.riotgames.com/lol/summoner/v4/summoners/by-name/gameb0x\n",
      "puuid: 7SKyjHwyyrKgwvMM4tQaP72Hjwb8hveVobJfmD1aydG-2TU\n",
      "Account ID: YUbdgjG3omxSZulZg3S4pUWo9fB6ZAfF529YbKLUsoeL9w\n",
      "Level: 78\n",
      "Revision date: 2023-11-09T13:00:42+00:00\n",
      "Making call: https://ddragon.leagueoflegends.com/realms/na.json\n",
      "Profile icon ID: 6330\n",
      "Profile icon name: None\n",
      "Profile icon URL: https://ddragon.leagueoflegends.com/cdn/13.23.1/img/profileicon/6330.png\n",
      "Making call: https://ddragon.leagueoflegends.com/cdn/13.23.1/img/profileicon/6330.png\n",
      "Profile icon image: <PIL.PngImagePlugin.PngImageFile image mode=RGB size=300x300 at 0x11548B250>\n"
     ]
    }
   ],
   "source": [
    "def print_summoner(name: str, region: str):\n",
    "    summoner = Summoner(name=name, region=region)\n",
    "    print(\"Name:\", summoner.name)\n",
    "    print(\"puuid:\", summoner.id)\n",
    "    print(\"Account ID:\", summoner.account_id)\n",
    "    print(\"Level:\", summoner.level)\n",
    "    print(\"Revision date:\", summoner.revision_date)\n",
    "    print(\"Profile icon ID:\", summoner.profile_icon.id)\n",
    "    print(\"Profile icon name:\", summoner.profile_icon.name)\n",
    "    print(\"Profile icon URL:\", summoner.profile_icon.url)\n",
    "    print(\"Profile icon image:\", summoner.profile_icon.image)\n",
    "\n",
    "\n",
    "if __name__ == \"__main__\":\n",
    "    print_summoner(\"gameb0x\", \"NA\")"
   ]
  },
  {
   "cell_type": "markdown",
   "metadata": {},
   "source": [
    "## Match Collection"
   ]
  },
  {
   "cell_type": "code",
   "execution_count": 4,
   "metadata": {},
   "outputs": [
    {
     "name": "stdout",
     "output_type": "stream",
     "text": [
      "Making call: https://cdn.merakianalytics.com/riot/lol/resources/patches.json\n"
     ]
    },
    {
     "ename": "TypeError",
     "evalue": "MatchHistory.__get_query_from_kwargs__() got an unexpected keyword argument 'summoner'",
     "output_type": "error",
     "traceback": [
      "\u001b[0;31m---------------------------------------------------------------------------\u001b[0m",
      "\u001b[0;31mTypeError\u001b[0m                                 Traceback (most recent call last)",
      "\u001b[1;32m/Users/mattgunnin/Sites/AI/00_Active/gpt-lol-coach/notebooks/riot_api/riot_api_cassiopeia.ipynb Cell 8\u001b[0m line \u001b[0;36m5\n\u001b[1;32m     <a href='vscode-notebook-cell:/Users/mattgunnin/Sites/AI/00_Active/gpt-lol-coach/notebooks/riot_api/riot_api_cassiopeia.ipynb#X10sZmlsZQ%3D%3D?line=48'>49</a>\u001b[0m             pulled_match_ids\u001b[39m.\u001b[39madd(new_match_id)\n\u001b[1;32m     <a href='vscode-notebook-cell:/Users/mattgunnin/Sites/AI/00_Active/gpt-lol-coach/notebooks/riot_api/riot_api_cassiopeia.ipynb#X10sZmlsZQ%3D%3D?line=51'>52</a>\u001b[0m \u001b[39mif\u001b[39;00m \u001b[39m__name__\u001b[39m \u001b[39m==\u001b[39m \u001b[39m\"\u001b[39m\u001b[39m__main__\u001b[39m\u001b[39m\"\u001b[39m:\n\u001b[0;32m---> <a href='vscode-notebook-cell:/Users/mattgunnin/Sites/AI/00_Active/gpt-lol-coach/notebooks/riot_api/riot_api_cassiopeia.ipynb#X10sZmlsZQ%3D%3D?line=52'>53</a>\u001b[0m     collect_matches()\n",
      "\u001b[1;32m/Users/mattgunnin/Sites/AI/00_Active/gpt-lol-coach/notebooks/riot_api/riot_api_cassiopeia.ipynb Cell 8\u001b[0m line \u001b[0;36m3\n\u001b[1;32m     <a href='vscode-notebook-cell:/Users/mattgunnin/Sites/AI/00_Active/gpt-lol-coach/notebooks/riot_api/riot_api_cassiopeia.ipynb#X10sZmlsZQ%3D%3D?line=28'>29</a>\u001b[0m new_summoner_id \u001b[39m=\u001b[39m random\u001b[39m.\u001b[39mchoice(unpulled_summoner_ids)\n\u001b[1;32m     <a href='vscode-notebook-cell:/Users/mattgunnin/Sites/AI/00_Active/gpt-lol-coach/notebooks/riot_api/riot_api_cassiopeia.ipynb#X10sZmlsZQ%3D%3D?line=29'>30</a>\u001b[0m new_summoner \u001b[39m=\u001b[39m Summoner(\u001b[39mid\u001b[39m\u001b[39m=\u001b[39mnew_summoner_id, region\u001b[39m=\u001b[39mregion)\n\u001b[0;32m---> <a href='vscode-notebook-cell:/Users/mattgunnin/Sites/AI/00_Active/gpt-lol-coach/notebooks/riot_api/riot_api_cassiopeia.ipynb#X10sZmlsZQ%3D%3D?line=30'>31</a>\u001b[0m matches \u001b[39m=\u001b[39m filter_match_history(new_summoner, patch)\n\u001b[1;32m     <a href='vscode-notebook-cell:/Users/mattgunnin/Sites/AI/00_Active/gpt-lol-coach/notebooks/riot_api/riot_api_cassiopeia.ipynb#X10sZmlsZQ%3D%3D?line=31'>32</a>\u001b[0m unpulled_match_ids\u001b[39m.\u001b[39mupdate([match\u001b[39m.\u001b[39mid \u001b[39mfor\u001b[39;00m match \u001b[39min\u001b[39;00m matches])\n\u001b[1;32m     <a href='vscode-notebook-cell:/Users/mattgunnin/Sites/AI/00_Active/gpt-lol-coach/notebooks/riot_api/riot_api_cassiopeia.ipynb#X10sZmlsZQ%3D%3D?line=32'>33</a>\u001b[0m unpulled_summoner_ids\u001b[39m.\u001b[39mremove(new_summoner_id)\n",
      "\u001b[1;32m/Users/mattgunnin/Sites/AI/00_Active/gpt-lol-coach/notebooks/riot_api/riot_api_cassiopeia.ipynb Cell 8\u001b[0m line \u001b[0;36m5\n\u001b[1;32m      <a href='vscode-notebook-cell:/Users/mattgunnin/Sites/AI/00_Active/gpt-lol-coach/notebooks/riot_api/riot_api_cassiopeia.ipynb#X10sZmlsZQ%3D%3D?line=2'>3</a>\u001b[0m \u001b[39mif\u001b[39;00m end_time \u001b[39mis\u001b[39;00m \u001b[39mNone\u001b[39;00m:\n\u001b[1;32m      <a href='vscode-notebook-cell:/Users/mattgunnin/Sites/AI/00_Active/gpt-lol-coach/notebooks/riot_api/riot_api_cassiopeia.ipynb#X10sZmlsZQ%3D%3D?line=3'>4</a>\u001b[0m     end_time \u001b[39m=\u001b[39m arrow\u001b[39m.\u001b[39mnow()\n\u001b[0;32m----> <a href='vscode-notebook-cell:/Users/mattgunnin/Sites/AI/00_Active/gpt-lol-coach/notebooks/riot_api/riot_api_cassiopeia.ipynb#X10sZmlsZQ%3D%3D?line=4'>5</a>\u001b[0m match_history \u001b[39m=\u001b[39m MatchHistory(\n\u001b[1;32m      <a href='vscode-notebook-cell:/Users/mattgunnin/Sites/AI/00_Active/gpt-lol-coach/notebooks/riot_api/riot_api_cassiopeia.ipynb#X10sZmlsZQ%3D%3D?line=5'>6</a>\u001b[0m     summoner\u001b[39m=\u001b[39;49msummoner,\n\u001b[1;32m      <a href='vscode-notebook-cell:/Users/mattgunnin/Sites/AI/00_Active/gpt-lol-coach/notebooks/riot_api/riot_api_cassiopeia.ipynb#X10sZmlsZQ%3D%3D?line=6'>7</a>\u001b[0m     queues\u001b[39m=\u001b[39;49m{Queue\u001b[39m.\u001b[39;49maram},\n\u001b[1;32m      <a href='vscode-notebook-cell:/Users/mattgunnin/Sites/AI/00_Active/gpt-lol-coach/notebooks/riot_api/riot_api_cassiopeia.ipynb#X10sZmlsZQ%3D%3D?line=7'>8</a>\u001b[0m     begin_time\u001b[39m=\u001b[39;49mpatch\u001b[39m.\u001b[39;49mstart,\n\u001b[1;32m      <a href='vscode-notebook-cell:/Users/mattgunnin/Sites/AI/00_Active/gpt-lol-coach/notebooks/riot_api/riot_api_cassiopeia.ipynb#X10sZmlsZQ%3D%3D?line=8'>9</a>\u001b[0m     end_time\u001b[39m=\u001b[39;49mend_time,\n\u001b[1;32m     <a href='vscode-notebook-cell:/Users/mattgunnin/Sites/AI/00_Active/gpt-lol-coach/notebooks/riot_api/riot_api_cassiopeia.ipynb#X10sZmlsZQ%3D%3D?line=9'>10</a>\u001b[0m )\n\u001b[1;32m     <a href='vscode-notebook-cell:/Users/mattgunnin/Sites/AI/00_Active/gpt-lol-coach/notebooks/riot_api/riot_api_cassiopeia.ipynb#X10sZmlsZQ%3D%3D?line=10'>11</a>\u001b[0m \u001b[39mreturn\u001b[39;00m match_history\n",
      "File \u001b[0;32m/usr/local/Caskroom/miniconda/base/envs/gpt-lol/lib/python3.11/site-packages/cassiopeia/core/common.py:191\u001b[0m, in \u001b[0;36mGetFromPipeline.__call__\u001b[0;34m(cls, *args, **kwargs)\u001b[0m\n\u001b[1;32m    189\u001b[0m \u001b[39mdef\u001b[39;00m \u001b[39m__call__\u001b[39m(\u001b[39mcls\u001b[39m: \u001b[39m\"\u001b[39m\u001b[39mCassiopeiaPipelineObject\u001b[39m\u001b[39m\"\u001b[39m, \u001b[39m*\u001b[39margs, \u001b[39m*\u001b[39m\u001b[39m*\u001b[39mkwargs):\n\u001b[1;32m    190\u001b[0m     pipeline \u001b[39m=\u001b[39m configuration\u001b[39m.\u001b[39msettings\u001b[39m.\u001b[39mpipeline\n\u001b[0;32m--> 191\u001b[0m     query \u001b[39m=\u001b[39m \u001b[39mcls\u001b[39;49m\u001b[39m.\u001b[39;49m__get_query_from_kwargs__(\u001b[39m*\u001b[39;49m\u001b[39m*\u001b[39;49mkwargs)\n\u001b[1;32m    192\u001b[0m     \u001b[39mif\u001b[39;00m (\n\u001b[1;32m    193\u001b[0m         \u001b[39mhasattr\u001b[39m(\u001b[39mcls\u001b[39m, \u001b[39m\"\u001b[39m\u001b[39mversion\u001b[39m\u001b[39m\"\u001b[39m)\n\u001b[1;32m    194\u001b[0m         \u001b[39mand\u001b[39;00m query\u001b[39m.\u001b[39mget(\u001b[39m\"\u001b[39m\u001b[39mversion\u001b[39m\u001b[39m\"\u001b[39m, \u001b[39mNone\u001b[39;00m) \u001b[39mis\u001b[39;00m \u001b[39mNone\u001b[39;00m\n\u001b[1;32m    195\u001b[0m         \u001b[39mand\u001b[39;00m \u001b[39mcls\u001b[39m\u001b[39m.\u001b[39m\u001b[39m__name__\u001b[39m \u001b[39mnot\u001b[39;00m \u001b[39min\u001b[39;00m [\u001b[39m\"\u001b[39m\u001b[39mRealms\u001b[39m\u001b[39m\"\u001b[39m, \u001b[39m\"\u001b[39m\u001b[39mMatch\u001b[39m\u001b[39m\"\u001b[39m]\n\u001b[1;32m    196\u001b[0m     ):\n\u001b[1;32m    197\u001b[0m         query[\u001b[39m\"\u001b[39m\u001b[39mversion\u001b[39m\u001b[39m\"\u001b[39m] \u001b[39m=\u001b[39m get_latest_version(region\u001b[39m=\u001b[39mquery[\u001b[39m\"\u001b[39m\u001b[39mregion\u001b[39m\u001b[39m\"\u001b[39m], endpoint\u001b[39m=\u001b[39m\u001b[39mNone\u001b[39;00m)\n",
      "\u001b[0;31mTypeError\u001b[0m: MatchHistory.__get_query_from_kwargs__() got an unexpected keyword argument 'summoner'"
     ]
    }
   ],
   "source": [
    "def filter_match_history(summoner, patch):\n",
    "    end_time = patch.end\n",
    "    if end_time is None:\n",
    "        end_time = arrow.now()\n",
    "    match_history = MatchHistory(\n",
    "        summoner=summoner,\n",
    "        queues={Queue.aram},\n",
    "        begin_time=patch.start,\n",
    "        end_time=end_time,\n",
    "    )\n",
    "    return match_history\n",
    "\n",
    "\n",
    "def collect_matches():\n",
    "    initial_summoner_name = \"gameb0x\"\n",
    "    region = \"NA\"\n",
    "\n",
    "    summoner = Summoner(name=initial_summoner_name, region=region)\n",
    "    patch = Patch.from_str(\"8.9\", region=region)\n",
    "\n",
    "    unpulled_summoner_ids = SortedList([summoner.id])\n",
    "    pulled_summoner_ids = SortedList()\n",
    "\n",
    "    unpulled_match_ids = SortedList()\n",
    "    pulled_match_ids = SortedList()\n",
    "\n",
    "    while unpulled_summoner_ids:\n",
    "        # Get a random summoner from our list of unpulled summoners and pull their match history\n",
    "        new_summoner_id = random.choice(unpulled_summoner_ids)\n",
    "        new_summoner = Summoner(id=new_summoner_id, region=region)\n",
    "        matches = filter_match_history(new_summoner, patch)\n",
    "        unpulled_match_ids.update([match.id for match in matches])\n",
    "        unpulled_summoner_ids.remove(new_summoner_id)\n",
    "        pulled_summoner_ids.add(new_summoner_id)\n",
    "\n",
    "        while unpulled_match_ids:\n",
    "            # Get a random match from our list of matches\n",
    "            new_match_id = random.choice(unpulled_match_ids)\n",
    "            new_match = Match(id=new_match_id, region=region)\n",
    "            for participant in new_match.participants:\n",
    "                if (\n",
    "                    participant.summoner.id not in pulled_summoner_ids\n",
    "                    and participant.summoner.id not in unpulled_summoner_ids\n",
    "                ):\n",
    "                    unpulled_summoner_ids.add(participant.summoner.id)\n",
    "            # The above lines will trigger the match to load its data by iterating over all the participants.\n",
    "            # If you have a database in your datapipeline, the match will automatically be stored in it.\n",
    "            unpulled_match_ids.remove(new_match_id)\n",
    "            pulled_match_ids.add(new_match_id)\n",
    "\n",
    "\n",
    "if __name__ == \"__main__\":\n",
    "    collect_matches()"
   ]
  },
  {
   "cell_type": "markdown",
   "metadata": {},
   "source": [
    "## Match Statistics"
   ]
  },
  {
   "cell_type": "code",
   "execution_count": 5,
   "metadata": {},
   "outputs": [
    {
     "ename": "TypeError",
     "evalue": "MatchHistory.__get_query_from_kwargs__() missing 2 required keyword-only arguments: 'continent' and 'puuid'",
     "output_type": "error",
     "traceback": [
      "\u001b[0;31m---------------------------------------------------------------------------\u001b[0m",
      "\u001b[0;31mTypeError\u001b[0m                                 Traceback (most recent call last)",
      "\u001b[1;32m/Users/mattgunnin/Sites/AI/00_Active/gpt-lol-coach/notebooks/riot_api/riot_api_cassiopeia.ipynb Cell 10\u001b[0m line \u001b[0;36m4\n\u001b[1;32m     <a href='vscode-notebook-cell:/Users/mattgunnin/Sites/AI/00_Active/gpt-lol-coach/notebooks/riot_api/riot_api_cassiopeia.ipynb#X12sZmlsZQ%3D%3D?line=41'>42</a>\u001b[0m     print_match_history(summoner, \u001b[39m5\u001b[39m)\n\u001b[1;32m     <a href='vscode-notebook-cell:/Users/mattgunnin/Sites/AI/00_Active/gpt-lol-coach/notebooks/riot_api/riot_api_cassiopeia.ipynb#X12sZmlsZQ%3D%3D?line=44'>45</a>\u001b[0m \u001b[39mif\u001b[39;00m \u001b[39m__name__\u001b[39m \u001b[39m==\u001b[39m \u001b[39m\"\u001b[39m\u001b[39m__main__\u001b[39m\u001b[39m\"\u001b[39m:\n\u001b[0;32m---> <a href='vscode-notebook-cell:/Users/mattgunnin/Sites/AI/00_Active/gpt-lol-coach/notebooks/riot_api/riot_api_cassiopeia.ipynb#X12sZmlsZQ%3D%3D?line=45'>46</a>\u001b[0m     main()\n",
      "\u001b[1;32m/Users/mattgunnin/Sites/AI/00_Active/gpt-lol-coach/notebooks/riot_api/riot_api_cassiopeia.ipynb Cell 10\u001b[0m line \u001b[0;36m4\n\u001b[1;32m     <a href='vscode-notebook-cell:/Users/mattgunnin/Sites/AI/00_Active/gpt-lol-coach/notebooks/riot_api/riot_api_cassiopeia.ipynb#X12sZmlsZQ%3D%3D?line=39'>40</a>\u001b[0m server \u001b[39m=\u001b[39m \u001b[39m\"\u001b[39m\u001b[39mNA\u001b[39m\u001b[39m\"\u001b[39m\n\u001b[1;32m     <a href='vscode-notebook-cell:/Users/mattgunnin/Sites/AI/00_Active/gpt-lol-coach/notebooks/riot_api/riot_api_cassiopeia.ipynb#X12sZmlsZQ%3D%3D?line=40'>41</a>\u001b[0m summoner \u001b[39m=\u001b[39m cass\u001b[39m.\u001b[39mget_summoner(name\u001b[39m=\u001b[39mname, region\u001b[39m=\u001b[39mserver)\n\u001b[0;32m---> <a href='vscode-notebook-cell:/Users/mattgunnin/Sites/AI/00_Active/gpt-lol-coach/notebooks/riot_api/riot_api_cassiopeia.ipynb#X12sZmlsZQ%3D%3D?line=41'>42</a>\u001b[0m print_match_history(summoner, \u001b[39m5\u001b[39;49m)\n",
      "\u001b[1;32m/Users/mattgunnin/Sites/AI/00_Active/gpt-lol-coach/notebooks/riot_api/riot_api_cassiopeia.ipynb Cell 10\u001b[0m line \u001b[0;36m2\n\u001b[1;32m     <a href='vscode-notebook-cell:/Users/mattgunnin/Sites/AI/00_Active/gpt-lol-coach/notebooks/riot_api/riot_api_cassiopeia.ipynb#X12sZmlsZQ%3D%3D?line=21'>22</a>\u001b[0m \u001b[39mdef\u001b[39;00m \u001b[39mprint_match_history\u001b[39m(summoner, num_matches):\n\u001b[0;32m---> <a href='vscode-notebook-cell:/Users/mattgunnin/Sites/AI/00_Active/gpt-lol-coach/notebooks/riot_api/riot_api_cassiopeia.ipynb#X12sZmlsZQ%3D%3D?line=22'>23</a>\u001b[0m     \u001b[39mfor\u001b[39;00m i, match \u001b[39min\u001b[39;00m \u001b[39menumerate\u001b[39m(summoner\u001b[39m.\u001b[39;49mmatch_history()\u001b[39m.\u001b[39mmatches[:num_matches], start\u001b[39m=\u001b[39m\u001b[39m1\u001b[39m):\n\u001b[1;32m     <a href='vscode-notebook-cell:/Users/mattgunnin/Sites/AI/00_Active/gpt-lol-coach/notebooks/riot_api/riot_api_cassiopeia.ipynb#X12sZmlsZQ%3D%3D?line=23'>24</a>\u001b[0m         match_num \u001b[39m=\u001b[39m \u001b[39mf\u001b[39m\u001b[39m\"\u001b[39m\u001b[39mMATCH \u001b[39m\u001b[39m{\u001b[39;00mi\u001b[39m}\u001b[39;00m\u001b[39m\"\u001b[39m\n\u001b[1;32m     <a href='vscode-notebook-cell:/Users/mattgunnin/Sites/AI/00_Active/gpt-lol-coach/notebooks/riot_api/riot_api_cassiopeia.ipynb#X12sZmlsZQ%3D%3D?line=24'>25</a>\u001b[0m         \u001b[39mprint\u001b[39m(match_num\u001b[39m.\u001b[39mcenter(\u001b[39m100\u001b[39m, \u001b[39m\"\u001b[39m\u001b[39m#\u001b[39m\u001b[39m\"\u001b[39m))\n",
      "File \u001b[0;32m/usr/local/Caskroom/miniconda/base/envs/gpt-lol/lib/python3.11/site-packages/cassiopeia/core/match.py:541\u001b[0m, in \u001b[0;36mMatchHistory.__call__\u001b[0;34m(self, **kwargs)\u001b[0m\n\u001b[1;32m    539\u001b[0m kwargs\u001b[39m.\u001b[39msetdefault(\u001b[39m\"\u001b[39m\u001b[39mqueue\u001b[39m\u001b[39m\"\u001b[39m, \u001b[39mself\u001b[39m\u001b[39m.\u001b[39mqueue)\n\u001b[1;32m    540\u001b[0m kwargs\u001b[39m.\u001b[39msetdefault(\u001b[39m\"\u001b[39m\u001b[39mtype\u001b[39m\u001b[39m\"\u001b[39m, \u001b[39mself\u001b[39m\u001b[39m.\u001b[39mmatch_type)\n\u001b[0;32m--> 541\u001b[0m \u001b[39mreturn\u001b[39;00m MatchHistory(\u001b[39m*\u001b[39;49m\u001b[39m*\u001b[39;49mkwargs)\n",
      "File \u001b[0;32m/usr/local/Caskroom/miniconda/base/envs/gpt-lol/lib/python3.11/site-packages/cassiopeia/core/common.py:191\u001b[0m, in \u001b[0;36mGetFromPipeline.__call__\u001b[0;34m(cls, *args, **kwargs)\u001b[0m\n\u001b[1;32m    189\u001b[0m \u001b[39mdef\u001b[39;00m \u001b[39m__call__\u001b[39m(\u001b[39mcls\u001b[39m: \u001b[39m\"\u001b[39m\u001b[39mCassiopeiaPipelineObject\u001b[39m\u001b[39m\"\u001b[39m, \u001b[39m*\u001b[39margs, \u001b[39m*\u001b[39m\u001b[39m*\u001b[39mkwargs):\n\u001b[1;32m    190\u001b[0m     pipeline \u001b[39m=\u001b[39m configuration\u001b[39m.\u001b[39msettings\u001b[39m.\u001b[39mpipeline\n\u001b[0;32m--> 191\u001b[0m     query \u001b[39m=\u001b[39m \u001b[39mcls\u001b[39;49m\u001b[39m.\u001b[39;49m__get_query_from_kwargs__(\u001b[39m*\u001b[39;49m\u001b[39m*\u001b[39;49mkwargs)\n\u001b[1;32m    192\u001b[0m     \u001b[39mif\u001b[39;00m (\n\u001b[1;32m    193\u001b[0m         \u001b[39mhasattr\u001b[39m(\u001b[39mcls\u001b[39m, \u001b[39m\"\u001b[39m\u001b[39mversion\u001b[39m\u001b[39m\"\u001b[39m)\n\u001b[1;32m    194\u001b[0m         \u001b[39mand\u001b[39;00m query\u001b[39m.\u001b[39mget(\u001b[39m\"\u001b[39m\u001b[39mversion\u001b[39m\u001b[39m\"\u001b[39m, \u001b[39mNone\u001b[39;00m) \u001b[39mis\u001b[39;00m \u001b[39mNone\u001b[39;00m\n\u001b[1;32m    195\u001b[0m         \u001b[39mand\u001b[39;00m \u001b[39mcls\u001b[39m\u001b[39m.\u001b[39m\u001b[39m__name__\u001b[39m \u001b[39mnot\u001b[39;00m \u001b[39min\u001b[39;00m [\u001b[39m\"\u001b[39m\u001b[39mRealms\u001b[39m\u001b[39m\"\u001b[39m, \u001b[39m\"\u001b[39m\u001b[39mMatch\u001b[39m\u001b[39m\"\u001b[39m]\n\u001b[1;32m    196\u001b[0m     ):\n\u001b[1;32m    197\u001b[0m         query[\u001b[39m\"\u001b[39m\u001b[39mversion\u001b[39m\u001b[39m\"\u001b[39m] \u001b[39m=\u001b[39m get_latest_version(region\u001b[39m=\u001b[39mquery[\u001b[39m\"\u001b[39m\u001b[39mregion\u001b[39m\u001b[39m\"\u001b[39m], endpoint\u001b[39m=\u001b[39m\u001b[39mNone\u001b[39;00m)\n",
      "\u001b[0;31mTypeError\u001b[0m: MatchHistory.__get_query_from_kwargs__() missing 2 required keyword-only arguments: 'continent' and 'puuid'"
     ]
    }
   ],
   "source": [
    "def get_participant_data(participants):\n",
    "    team_participant_data = []\n",
    "    for p in participants:\n",
    "        p_data = {\"summoner\": p.summoner.name, \"champion\": p.champion.name, \"runes\": p.runes.keystone.name,\n",
    "                    \"d_spell\": p.summoner_spell_d.name, \"f_spell\": p.summoner_spell_f.name,\n",
    "                    \"kills\": p.stats.kills, \"assist\": p.stats.assists, \"deaths\": p.stats.deaths,\n",
    "                    \"kda_ratio\": round(p.stats.kda, 2), \"damage_dealt\": p.stats.total_damage_dealt,\n",
    "                    \"creep_score\": p.stats.total_minions_killed, \"vision_score\": p.stats.vision_score}\n",
    "\n",
    "        p_items = []\n",
    "        number_of_item_slots = 6\n",
    "        for i in range(number_of_item_slots):\n",
    "            try:\n",
    "                p_items.append(p.stats.items[i].name)\n",
    "            except AttributeError:\n",
    "                p_items.append(\"None\")\n",
    "        p_data[\"items\"] = p_items\n",
    "        team_participant_data.append(p_data)\n",
    "    return team_participant_data\n",
    "\n",
    "\n",
    "def print_match_history(summoner, num_matches):\n",
    "    for i, match in enumerate(summoner.match_history().matches[:num_matches], start=1):\n",
    "        match_num = f\"MATCH {i}\"\n",
    "        print(match_num.center(100, \"#\"))\n",
    "\n",
    "        blue_team = match.blue_team.participants\n",
    "        print(\"BLUE SIDE\".center(100, \"-\"))\n",
    "        for p_data in get_participant_data(blue_team):\n",
    "            print(p_data)\n",
    "\n",
    "        red_team = match.red_team.participants\n",
    "        print(\"RED SIDE\".center(100, \"-\"))\n",
    "        for p_data in get_participant_data(red_team):\n",
    "            print(p_data)\n",
    "\n",
    "\n",
    "def main():\n",
    "    name = \"gameb0x\"\n",
    "    server = \"NA\"\n",
    "    summoner = cass.get_summoner(name=name, region=server)\n",
    "    print_match_history(summoner, 5)\n",
    "\n",
    "\n",
    "if __name__ == \"__main__\":\n",
    "    main()"
   ]
  }
 ],
 "metadata": {
  "kernelspec": {
   "display_name": "gpt-lol",
   "language": "python",
   "name": "python3"
  },
  "language_info": {
   "codemirror_mode": {
    "name": "ipython",
    "version": 3
   },
   "file_extension": ".py",
   "mimetype": "text/x-python",
   "name": "python",
   "nbconvert_exporter": "python",
   "pygments_lexer": "ipython3",
   "version": "3.11.5"
  }
 },
 "nbformat": 4,
 "nbformat_minor": 2
}
