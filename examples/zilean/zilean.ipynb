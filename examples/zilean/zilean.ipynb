{
 "cells": [
  {
   "cell_type": "code",
   "execution_count": null,
   "metadata": {},
   "outputs": [],
   "source": [
    "from zilean import SnapShots, TimelineCrawler, read_api_key\n",
    "import pandas as pd\n",
    "import json"
   ]
  },
  {
   "cell_type": "code",
   "execution_count": null,
   "metadata": {},
   "outputs": [],
   "source": [
    "api_key = read_api_key(api_key=\"RGAPI-de85bb37-76e5-6890-9a94-fcf7b1bf14a6\")"
   ]
  },
  {
   "cell_type": "code",
   "execution_count": null,
   "metadata": {},
   "outputs": [],
   "source": [
    "# Using the api key\n",
    "if api_key:\n",
    "    crawler = TimelineCrawler(api_key, region=\"kr\", tier=\"DIAMOND\", queue=\"RANKED_SOLO_5x5\")\n",
    "    result = crawler.crawl(50, cutoff=16)"
   ]
  },
  {
   "cell_type": "code",
   "execution_count": null,
   "metadata": {},
   "outputs": [],
   "source": [
    "print(\"First match id:\", result[0]['metadata']['matchId'])"
   ]
  },
  {
   "cell_type": "code",
   "execution_count": null,
   "metadata": {},
   "outputs": [],
   "source": [
    "snaps = SnapShots(result, frames=[10, 15])"
   ]
  },
  {
   "cell_type": "code",
   "execution_count": null,
   "metadata": {},
   "outputs": [],
   "source": [
    "df = pd.DataFrame(snaps.summary())\n",
    "print(\"Shape:\", df.shape)\n",
    "df.head(10)"
   ]
  },
  {
   "cell_type": "code",
   "execution_count": null,
   "metadata": {},
   "outputs": [],
   "source": [
    "top_and_mid = snaps.get_lanes([\"TOP\", \"MID\"], per_frame=False)\n",
    "pd.DataFrame(top_and_mid).head(10)"
   ]
  }
 ],
 "metadata": {
  "kernelspec": {
   "display_name": "gpt-lol",
   "language": "python",
   "name": "python3"
  },
  "language_info": {
   "name": "python",
   "version": "3.11.5"
  }
 },
 "nbformat": 4,
 "nbformat_minor": 2
}
